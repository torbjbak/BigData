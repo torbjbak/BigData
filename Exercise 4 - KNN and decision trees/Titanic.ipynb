{
 "cells": [
  {
   "cell_type": "markdown",
   "metadata": {
    "collapsed": true,
    "pycharm": {
     "name": "#%% md\n"
    }
   },
   "source": [
    "## Exercise 4\n",
    "3)\n",
    "\n",
    "Loading dataset and remove rows with null values:"
   ]
  },
  {
   "cell_type": "code",
   "execution_count": 2,
   "outputs": [
    {
     "data": {
      "text/plain": "   Survived     Sex   Age  Class\n0         0    male  22.0      3\n1         1  female  38.0      1\n2         1  female  26.0      3\n3         1  female  35.0      1\n4         0    male  35.0      3\n5         0    male   NaN      3\n6         0    male  54.0      1\n7         0    male   2.0      3",
      "text/html": "<div>\n<style scoped>\n    .dataframe tbody tr th:only-of-type {\n        vertical-align: middle;\n    }\n\n    .dataframe tbody tr th {\n        vertical-align: top;\n    }\n\n    .dataframe thead th {\n        text-align: right;\n    }\n</style>\n<table border=\"1\" class=\"dataframe\">\n  <thead>\n    <tr style=\"text-align: right;\">\n      <th></th>\n      <th>Survived</th>\n      <th>Sex</th>\n      <th>Age</th>\n      <th>Class</th>\n    </tr>\n  </thead>\n  <tbody>\n    <tr>\n      <th>0</th>\n      <td>0</td>\n      <td>male</td>\n      <td>22.0</td>\n      <td>3</td>\n    </tr>\n    <tr>\n      <th>1</th>\n      <td>1</td>\n      <td>female</td>\n      <td>38.0</td>\n      <td>1</td>\n    </tr>\n    <tr>\n      <th>2</th>\n      <td>1</td>\n      <td>female</td>\n      <td>26.0</td>\n      <td>3</td>\n    </tr>\n    <tr>\n      <th>3</th>\n      <td>1</td>\n      <td>female</td>\n      <td>35.0</td>\n      <td>1</td>\n    </tr>\n    <tr>\n      <th>4</th>\n      <td>0</td>\n      <td>male</td>\n      <td>35.0</td>\n      <td>3</td>\n    </tr>\n    <tr>\n      <th>5</th>\n      <td>0</td>\n      <td>male</td>\n      <td>NaN</td>\n      <td>3</td>\n    </tr>\n    <tr>\n      <th>6</th>\n      <td>0</td>\n      <td>male</td>\n      <td>54.0</td>\n      <td>1</td>\n    </tr>\n    <tr>\n      <th>7</th>\n      <td>0</td>\n      <td>male</td>\n      <td>2.0</td>\n      <td>3</td>\n    </tr>\n  </tbody>\n</table>\n</div>"
     },
     "metadata": {},
     "output_type": "display_data"
    },
    {
     "data": {
      "text/plain": "   Survived Sex   Age  Class\n0         0   0  22.0      3\n1         1   1  38.0      1\n2         1   1  26.0      3\n3         1   1  35.0      1\n4         0   0  35.0      3\n6         0   0  54.0      1\n7         0   0   2.0      3\n8         1   1  27.0      3",
      "text/html": "<div>\n<style scoped>\n    .dataframe tbody tr th:only-of-type {\n        vertical-align: middle;\n    }\n\n    .dataframe tbody tr th {\n        vertical-align: top;\n    }\n\n    .dataframe thead th {\n        text-align: right;\n    }\n</style>\n<table border=\"1\" class=\"dataframe\">\n  <thead>\n    <tr style=\"text-align: right;\">\n      <th></th>\n      <th>Survived</th>\n      <th>Sex</th>\n      <th>Age</th>\n      <th>Class</th>\n    </tr>\n  </thead>\n  <tbody>\n    <tr>\n      <th>0</th>\n      <td>0</td>\n      <td>0</td>\n      <td>22.0</td>\n      <td>3</td>\n    </tr>\n    <tr>\n      <th>1</th>\n      <td>1</td>\n      <td>1</td>\n      <td>38.0</td>\n      <td>1</td>\n    </tr>\n    <tr>\n      <th>2</th>\n      <td>1</td>\n      <td>1</td>\n      <td>26.0</td>\n      <td>3</td>\n    </tr>\n    <tr>\n      <th>3</th>\n      <td>1</td>\n      <td>1</td>\n      <td>35.0</td>\n      <td>1</td>\n    </tr>\n    <tr>\n      <th>4</th>\n      <td>0</td>\n      <td>0</td>\n      <td>35.0</td>\n      <td>3</td>\n    </tr>\n    <tr>\n      <th>6</th>\n      <td>0</td>\n      <td>0</td>\n      <td>54.0</td>\n      <td>1</td>\n    </tr>\n    <tr>\n      <th>7</th>\n      <td>0</td>\n      <td>0</td>\n      <td>2.0</td>\n      <td>3</td>\n    </tr>\n    <tr>\n      <th>8</th>\n      <td>1</td>\n      <td>1</td>\n      <td>27.0</td>\n      <td>3</td>\n    </tr>\n  </tbody>\n</table>\n</div>"
     },
     "metadata": {},
     "output_type": "display_data"
    }
   ],
   "source": [
    "import pandas as pd\n",
    "from IPython.core.display import display\n",
    "\n",
    "titanic = pd.read_csv('titanic.csv')\n",
    "display(titanic.head(8))\n",
    "titanic = titanic[titanic['Age'].notnull()]\n",
    "titanic['Sex'] = pd.Categorical(titanic['Sex'].factorize()[0])\n",
    "display(titanic.head(8))"
   ],
   "metadata": {
    "collapsed": false,
    "pycharm": {
     "name": "#%%\n"
    }
   }
  },
  {
   "cell_type": "markdown",
   "source": [
    "Making a decision tree and displaying it with Graphviz.\n",
    "\n",
    "Only the top 4 layers of the tree shown since the image becomes too big otherwise.\n",
    "\n",
    "Sex = 0 for male, 1 for female"
   ],
   "metadata": {
    "collapsed": false
   }
  },
  {
   "cell_type": "code",
   "execution_count": 10,
   "outputs": [
    {
     "data": {
      "text/plain": "<IPython.core.display.SVG object>",
      "image/svg+xml": "<svg xmlns=\"http://www.w3.org/2000/svg\" xmlns:xlink=\"http://www.w3.org/1999/xlink\" width=\"1153pt\" height=\"552pt\" viewBox=\"0.00 0.00 1153.00 552.00\">\n<g id=\"graph0\" class=\"graph\" transform=\"scale(1 1) rotate(0) translate(4 548)\">\n<title>Tree</title>\n<polygon fill=\"white\" stroke=\"none\" points=\"-4,4 -4,-548 1149,-548 1149,4 -4,4\"/>\n<!-- 0 -->\n<g id=\"node1\" class=\"node\"><title>0</title>\n<path fill=\"#f7d7c0\" stroke=\"black\" d=\"M526.5,-544C526.5,-544 420.5,-544 420.5,-544 414.5,-544 408.5,-538 408.5,-532 408.5,-532 408.5,-473 408.5,-473 408.5,-467 414.5,-461 420.5,-461 420.5,-461 526.5,-461 526.5,-461 532.5,-461 538.5,-467 538.5,-473 538.5,-473 538.5,-532 538.5,-532 538.5,-538 532.5,-544 526.5,-544\"/>\n<text text-anchor=\"start\" x=\"443\" y=\"-528.8\" font-family=\"Helvetica,sans-Serif\" font-size=\"14.00\">Sex ≤ 0.5</text>\n<text text-anchor=\"start\" x=\"436\" y=\"-513.8\" font-family=\"Helvetica,sans-Serif\" font-size=\"14.00\">gini = 0.482</text>\n<text text-anchor=\"start\" x=\"426\" y=\"-498.8\" font-family=\"Helvetica,sans-Serif\" font-size=\"14.00\">samples = 714</text>\n<text text-anchor=\"start\" x=\"416.5\" y=\"-483.8\" font-family=\"Helvetica,sans-Serif\" font-size=\"14.00\">value = [424, 290]</text>\n<text text-anchor=\"start\" x=\"435\" y=\"-468.8\" font-family=\"Helvetica,sans-Serif\" font-size=\"14.00\">class = died</text>\n</g>\n<!-- 1 -->\n<g id=\"node2\" class=\"node\"><title>1</title>\n<path fill=\"#eca26c\" stroke=\"black\" d=\"M351.5,-425C351.5,-425 297.5,-425 297.5,-425 291.5,-425 285.5,-419 285.5,-413 285.5,-413 285.5,-354 285.5,-354 285.5,-348 291.5,-342 297.5,-342 297.5,-342 351.5,-342 351.5,-342 357.5,-342 363.5,-348 363.5,-354 363.5,-354 363.5,-413 363.5,-413 363.5,-419 357.5,-425 351.5,-425\"/>\n<text text-anchor=\"start\" x=\"293.5\" y=\"-409.8\" font-family=\"Helvetica,sans-Serif\" font-size=\"14.00\">Age ≤ 6.5</text>\n<text text-anchor=\"start\" x=\"306\" y=\"-394.8\" font-family=\"Helvetica,sans-Serif\" font-size=\"14.00\">0.326</text>\n<text text-anchor=\"start\" x=\"312\" y=\"-379.8\" font-family=\"Helvetica,sans-Serif\" font-size=\"14.00\">453</text>\n<text text-anchor=\"start\" x=\"296\" y=\"-364.8\" font-family=\"Helvetica,sans-Serif\" font-size=\"14.00\">[360, 93]</text>\n<text text-anchor=\"start\" x=\"310.5\" y=\"-349.8\" font-family=\"Helvetica,sans-Serif\" font-size=\"14.00\">died</text>\n</g>\n<!-- 0&#45;&gt;1 -->\n<g id=\"edge1\" class=\"edge\"><title>0-&gt;1</title>\n<path fill=\"none\" stroke=\"black\" d=\"M421.805,-460.907C405.629,-448.205 387.865,-434.257 371.993,-421.793\"/>\n<polygon fill=\"black\" stroke=\"black\" points=\"373.911,-418.849 363.884,-415.426 369.588,-424.354 373.911,-418.849\"/>\n<text text-anchor=\"middle\" x=\"366.87\" y=\"-436.547\" font-family=\"Helvetica,sans-Serif\" font-size=\"14.00\">True</text>\n</g>\n<!-- 14 -->\n<g id=\"node15\" class=\"node\"><title>14</title>\n<path fill=\"#79bded\" stroke=\"black\" d=\"M679.5,-425C679.5,-425 615.5,-425 615.5,-425 609.5,-425 603.5,-419 603.5,-413 603.5,-413 603.5,-354 603.5,-354 603.5,-348 609.5,-342 615.5,-342 615.5,-342 679.5,-342 679.5,-342 685.5,-342 691.5,-348 691.5,-354 691.5,-354 691.5,-413 691.5,-413 691.5,-419 685.5,-425 679.5,-425\"/>\n<text text-anchor=\"start\" x=\"611.5\" y=\"-409.8\" font-family=\"Helvetica,sans-Serif\" font-size=\"14.00\">Class ≤ 2.5</text>\n<text text-anchor=\"start\" x=\"633\" y=\"-394.8\" font-family=\"Helvetica,sans-Serif\" font-size=\"14.00\">0.37</text>\n<text text-anchor=\"start\" x=\"635\" y=\"-379.8\" font-family=\"Helvetica,sans-Serif\" font-size=\"14.00\">261</text>\n<text text-anchor=\"start\" x=\"619\" y=\"-364.8\" font-family=\"Helvetica,sans-Serif\" font-size=\"14.00\">[64, 197]</text>\n<text text-anchor=\"start\" x=\"621\" y=\"-349.8\" font-family=\"Helvetica,sans-Serif\" font-size=\"14.00\">survived</text>\n</g>\n<!-- 0&#45;&gt;14 -->\n<g id=\"edge14\" class=\"edge\"><title>0-&gt;14</title>\n<path fill=\"none\" stroke=\"black\" d=\"M533.868,-460.907C553.79,-447.512 575.774,-432.729 595.055,-419.765\"/>\n<polygon fill=\"black\" stroke=\"black\" points=\"597.076,-422.624 603.421,-414.139 593.17,-416.815 597.076,-422.624\"/>\n<text text-anchor=\"middle\" x=\"598.616\" y=\"-434.973\" font-family=\"Helvetica,sans-Serif\" font-size=\"14.00\">False</text>\n</g>\n<!-- 2 -->\n<g id=\"node3\" class=\"node\"><title>2</title>\n<path fill=\"#9ccef2\" stroke=\"black\" d=\"M162.5,-306C162.5,-306 98.5,-306 98.5,-306 92.5,-306 86.5,-300 86.5,-294 86.5,-294 86.5,-235 86.5,-235 86.5,-229 92.5,-223 98.5,-223 98.5,-223 162.5,-223 162.5,-223 168.5,-223 174.5,-229 174.5,-235 174.5,-235 174.5,-294 174.5,-294 174.5,-300 168.5,-306 162.5,-306\"/>\n<text text-anchor=\"start\" x=\"94.5\" y=\"-290.8\" font-family=\"Helvetica,sans-Serif\" font-size=\"14.00\">Class ≤ 2.5</text>\n<text text-anchor=\"start\" x=\"112\" y=\"-275.8\" font-family=\"Helvetica,sans-Serif\" font-size=\"14.00\">0.444</text>\n<text text-anchor=\"start\" x=\"122\" y=\"-260.8\" font-family=\"Helvetica,sans-Serif\" font-size=\"14.00\">24</text>\n<text text-anchor=\"start\" x=\"110.5\" y=\"-245.8\" font-family=\"Helvetica,sans-Serif\" font-size=\"14.00\">[8, 16]</text>\n<text text-anchor=\"start\" x=\"104\" y=\"-230.8\" font-family=\"Helvetica,sans-Serif\" font-size=\"14.00\">survived</text>\n</g>\n<!-- 1&#45;&gt;2 -->\n<g id=\"edge2\" class=\"edge\"><title>1-&gt;2</title>\n<path fill=\"none\" stroke=\"black\" d=\"M285.241,-358.823C255.994,-341.184 215.734,-316.904 183.612,-297.531\"/>\n<polygon fill=\"black\" stroke=\"black\" points=\"185.154,-294.374 174.783,-292.207 181.539,-300.369 185.154,-294.374\"/>\n</g>\n<!-- 7 -->\n<g id=\"node8\" class=\"node\"><title>7</title>\n<path fill=\"#eb9d64\" stroke=\"black\" d=\"M356.5,-306C356.5,-306 292.5,-306 292.5,-306 286.5,-306 280.5,-300 280.5,-294 280.5,-294 280.5,-235 280.5,-235 280.5,-229 286.5,-223 292.5,-223 292.5,-223 356.5,-223 356.5,-223 362.5,-223 368.5,-229 368.5,-235 368.5,-235 368.5,-294 368.5,-294 368.5,-300 362.5,-306 356.5,-306\"/>\n<text text-anchor=\"start\" x=\"288.5\" y=\"-290.8\" font-family=\"Helvetica,sans-Serif\" font-size=\"14.00\">Class ≤ 1.5</text>\n<text text-anchor=\"start\" x=\"306\" y=\"-275.8\" font-family=\"Helvetica,sans-Serif\" font-size=\"14.00\">0.295</text>\n<text text-anchor=\"start\" x=\"312\" y=\"-260.8\" font-family=\"Helvetica,sans-Serif\" font-size=\"14.00\">429</text>\n<text text-anchor=\"start\" x=\"296\" y=\"-245.8\" font-family=\"Helvetica,sans-Serif\" font-size=\"14.00\">[352, 77]</text>\n<text text-anchor=\"start\" x=\"310.5\" y=\"-230.8\" font-family=\"Helvetica,sans-Serif\" font-size=\"14.00\">died</text>\n</g>\n<!-- 1&#45;&gt;7 -->\n<g id=\"edge7\" class=\"edge\"><title>1-&gt;7</title>\n<path fill=\"none\" stroke=\"black\" d=\"M324.5,-341.907C324.5,-333.649 324.5,-324.864 324.5,-316.302\"/>\n<polygon fill=\"black\" stroke=\"black\" points=\"328,-316.021 324.5,-306.021 321,-316.021 328,-316.021\"/>\n</g>\n<!-- 3 -->\n<g id=\"node4\" class=\"node\"><title>3</title>\n<path fill=\"#399de5\" stroke=\"black\" d=\"M57,-179.5C57,-179.5 12,-179.5 12,-179.5 6,-179.5 0,-173.5 0,-167.5 0,-167.5 0,-123.5 0,-123.5 0,-117.5 6,-111.5 12,-111.5 12,-111.5 57,-111.5 57,-111.5 63,-111.5 69,-117.5 69,-123.5 69,-123.5 69,-167.5 69,-167.5 69,-173.5 63,-179.5 57,-179.5\"/>\n<text text-anchor=\"start\" x=\"24\" y=\"-164.3\" font-family=\"Helvetica,sans-Serif\" font-size=\"14.00\">0.0</text>\n<text text-anchor=\"start\" x=\"26\" y=\"-149.3\" font-family=\"Helvetica,sans-Serif\" font-size=\"14.00\">10</text>\n<text text-anchor=\"start\" x=\"14.5\" y=\"-134.3\" font-family=\"Helvetica,sans-Serif\" font-size=\"14.00\">[0, 10]</text>\n<text text-anchor=\"start\" x=\"8\" y=\"-119.3\" font-family=\"Helvetica,sans-Serif\" font-size=\"14.00\">survived</text>\n</g>\n<!-- 2&#45;&gt;3 -->\n<g id=\"edge3\" class=\"edge\"><title>2-&gt;3</title>\n<path fill=\"none\" stroke=\"black\" d=\"M97.1933,-222.907C87.7772,-211.432 77.5262,-198.938 68.0933,-187.442\"/>\n<polygon fill=\"black\" stroke=\"black\" points=\"70.7629,-185.178 61.7139,-179.667 65.3513,-189.618 70.7629,-185.178\"/>\n</g>\n<!-- 4 -->\n<g id=\"node5\" class=\"node\"><title>4</title>\n<path fill=\"#f8e0ce\" stroke=\"black\" d=\"M161.5,-187C161.5,-187 99.5,-187 99.5,-187 93.5,-187 87.5,-181 87.5,-175 87.5,-175 87.5,-116 87.5,-116 87.5,-110 93.5,-104 99.5,-104 99.5,-104 161.5,-104 161.5,-104 167.5,-104 173.5,-110 173.5,-116 173.5,-116 173.5,-175 173.5,-175 173.5,-181 167.5,-187 161.5,-187\"/>\n<text text-anchor=\"start\" x=\"95.5\" y=\"-171.8\" font-family=\"Helvetica,sans-Serif\" font-size=\"14.00\">Age ≤ 0.71</text>\n<text text-anchor=\"start\" x=\"116\" y=\"-156.8\" font-family=\"Helvetica,sans-Serif\" font-size=\"14.00\">0.49</text>\n<text text-anchor=\"start\" x=\"122\" y=\"-141.8\" font-family=\"Helvetica,sans-Serif\" font-size=\"14.00\">14</text>\n<text text-anchor=\"start\" x=\"114.5\" y=\"-126.8\" font-family=\"Helvetica,sans-Serif\" font-size=\"14.00\">[8, 6]</text>\n<text text-anchor=\"start\" x=\"116.5\" y=\"-111.8\" font-family=\"Helvetica,sans-Serif\" font-size=\"14.00\">died</text>\n</g>\n<!-- 2&#45;&gt;4 -->\n<g id=\"edge4\" class=\"edge\"><title>2-&gt;4</title>\n<path fill=\"none\" stroke=\"black\" d=\"M130.5,-222.907C130.5,-214.649 130.5,-205.864 130.5,-197.302\"/>\n<polygon fill=\"black\" stroke=\"black\" points=\"134,-197.021 130.5,-187.021 127,-197.021 134,-197.021\"/>\n</g>\n<!-- 5 -->\n<g id=\"node6\" class=\"node\"><title>5</title>\n<path fill=\"#399de5\" stroke=\"black\" d=\"M73,-68C73,-68 28,-68 28,-68 22,-68 16,-62 16,-56 16,-56 16,-12 16,-12 16,-6 22,-0 28,-0 28,-0 73,-0 73,-0 79,-0 85,-6 85,-12 85,-12 85,-56 85,-56 85,-62 79,-68 73,-68\"/>\n<text text-anchor=\"start\" x=\"40\" y=\"-52.8\" font-family=\"Helvetica,sans-Serif\" font-size=\"14.00\">0.0</text>\n<text text-anchor=\"start\" x=\"46\" y=\"-37.8\" font-family=\"Helvetica,sans-Serif\" font-size=\"14.00\">1</text>\n<text text-anchor=\"start\" x=\"34.5\" y=\"-22.8\" font-family=\"Helvetica,sans-Serif\" font-size=\"14.00\">[0, 1]</text>\n<text text-anchor=\"start\" x=\"24\" y=\"-7.8\" font-family=\"Helvetica,sans-Serif\" font-size=\"14.00\">survived</text>\n</g>\n<!-- 4&#45;&gt;5 -->\n<g id=\"edge5\" class=\"edge\"><title>4-&gt;5</title>\n<path fill=\"none\" stroke=\"black\" d=\"M100.711,-103.726C94.2472,-94.879 87.4023,-85.51 80.9148,-76.6303\"/>\n<polygon fill=\"black\" stroke=\"black\" points=\"83.5539,-74.3095 74.8285,-68.2996 77.9016,-78.439 83.5539,-74.3095\"/>\n</g>\n<!-- 6 -->\n<g id=\"node7\" class=\"node\"><title>6</title>\n<path fill=\"#f5d0b5\" stroke=\"black\" d=\"M145.5,-68C145.5,-68 115.5,-68 115.5,-68 109.5,-68 103.5,-62 103.5,-56 103.5,-56 103.5,-12 103.5,-12 103.5,-6 109.5,-0 115.5,-0 115.5,-0 145.5,-0 145.5,-0 151.5,-0 157.5,-6 157.5,-12 157.5,-12 157.5,-56 157.5,-56 157.5,-62 151.5,-68 145.5,-68\"/>\n<text text-anchor=\"start\" x=\"112\" y=\"-52.8\" font-family=\"Helvetica,sans-Serif\" font-size=\"14.00\">0.473</text>\n<text text-anchor=\"start\" x=\"122\" y=\"-37.8\" font-family=\"Helvetica,sans-Serif\" font-size=\"14.00\">13</text>\n<text text-anchor=\"start\" x=\"114.5\" y=\"-22.8\" font-family=\"Helvetica,sans-Serif\" font-size=\"14.00\">[8, 5]</text>\n<text text-anchor=\"start\" x=\"116.5\" y=\"-7.8\" font-family=\"Helvetica,sans-Serif\" font-size=\"14.00\">died</text>\n</g>\n<!-- 4&#45;&gt;6 -->\n<g id=\"edge6\" class=\"edge\"><title>4-&gt;6</title>\n<path fill=\"none\" stroke=\"black\" d=\"M130.5,-103.726C130.5,-95.5175 130.5,-86.8595 130.5,-78.56\"/>\n<polygon fill=\"black\" stroke=\"black\" points=\"134,-78.2996 130.5,-68.2996 127,-78.2996 134,-78.2996\"/>\n</g>\n<!-- 8 -->\n<g id=\"node9\" class=\"node\"><title>8</title>\n<path fill=\"#f5cfb4\" stroke=\"black\" d=\"M303.5,-187C303.5,-187 241.5,-187 241.5,-187 235.5,-187 229.5,-181 229.5,-175 229.5,-175 229.5,-116 229.5,-116 229.5,-110 235.5,-104 241.5,-104 241.5,-104 303.5,-104 303.5,-104 309.5,-104 315.5,-110 315.5,-116 315.5,-116 315.5,-175 315.5,-175 315.5,-181 309.5,-187 303.5,-187\"/>\n<text text-anchor=\"start\" x=\"237.5\" y=\"-171.8\" font-family=\"Helvetica,sans-Serif\" font-size=\"14.00\">Age ≤ 53.0</text>\n<text text-anchor=\"start\" x=\"254\" y=\"-156.8\" font-family=\"Helvetica,sans-Serif\" font-size=\"14.00\">0.473</text>\n<text text-anchor=\"start\" x=\"264\" y=\"-141.8\" font-family=\"Helvetica,sans-Serif\" font-size=\"14.00\">99</text>\n<text text-anchor=\"start\" x=\"248\" y=\"-126.8\" font-family=\"Helvetica,sans-Serif\" font-size=\"14.00\">[61, 38]</text>\n<text text-anchor=\"start\" x=\"258.5\" y=\"-111.8\" font-family=\"Helvetica,sans-Serif\" font-size=\"14.00\">died</text>\n</g>\n<!-- 7&#45;&gt;8 -->\n<g id=\"edge8\" class=\"edge\"><title>7-&gt;8</title>\n<path fill=\"none\" stroke=\"black\" d=\"M306.459,-222.907C302.627,-214.286 298.54,-205.09 294.578,-196.175\"/>\n<polygon fill=\"black\" stroke=\"black\" points=\"297.769,-194.737 290.509,-187.021 291.372,-197.58 297.769,-194.737\"/>\n</g>\n<!-- 11 -->\n<g id=\"node12\" class=\"node\"><title>11</title>\n<path fill=\"#e89254\" stroke=\"black\" d=\"M407.5,-187C407.5,-187 345.5,-187 345.5,-187 339.5,-187 333.5,-181 333.5,-175 333.5,-175 333.5,-116 333.5,-116 333.5,-110 339.5,-104 345.5,-104 345.5,-104 407.5,-104 407.5,-104 413.5,-104 419.5,-110 419.5,-116 419.5,-116 419.5,-175 419.5,-175 419.5,-181 413.5,-187 407.5,-187\"/>\n<text text-anchor=\"start\" x=\"341.5\" y=\"-171.8\" font-family=\"Helvetica,sans-Serif\" font-size=\"14.00\">Age ≤ 13.0</text>\n<text text-anchor=\"start\" x=\"358\" y=\"-156.8\" font-family=\"Helvetica,sans-Serif\" font-size=\"14.00\">0.208</text>\n<text text-anchor=\"start\" x=\"364\" y=\"-141.8\" font-family=\"Helvetica,sans-Serif\" font-size=\"14.00\">330</text>\n<text text-anchor=\"start\" x=\"348\" y=\"-126.8\" font-family=\"Helvetica,sans-Serif\" font-size=\"14.00\">[291, 39]</text>\n<text text-anchor=\"start\" x=\"362.5\" y=\"-111.8\" font-family=\"Helvetica,sans-Serif\" font-size=\"14.00\">died</text>\n</g>\n<!-- 7&#45;&gt;11 -->\n<g id=\"edge11\" class=\"edge\"><title>7-&gt;11</title>\n<path fill=\"none\" stroke=\"black\" d=\"M342.541,-222.907C346.373,-214.286 350.46,-205.09 354.422,-196.175\"/>\n<polygon fill=\"black\" stroke=\"black\" points=\"357.628,-197.58 358.491,-187.021 351.231,-194.737 357.628,-197.58\"/>\n</g>\n<!-- 9 -->\n<g id=\"node10\" class=\"node\"><title>9</title>\n<path fill=\"#fbeade\" stroke=\"black\" d=\"M229,-68C229,-68 188,-68 188,-68 182,-68 176,-62 176,-56 176,-56 176,-12 176,-12 176,-6 182,-0 188,-0 188,-0 229,-0 229,-0 235,-0 241,-6 241,-12 241,-12 241,-56 241,-56 241,-62 235,-68 229,-68\"/>\n<text text-anchor=\"start\" x=\"190\" y=\"-52.8\" font-family=\"Helvetica,sans-Serif\" font-size=\"14.00\">0.496</text>\n<text text-anchor=\"start\" x=\"200\" y=\"-37.8\" font-family=\"Helvetica,sans-Serif\" font-size=\"14.00\">77</text>\n<text text-anchor=\"start\" x=\"184\" y=\"-22.8\" font-family=\"Helvetica,sans-Serif\" font-size=\"14.00\">[42, 35]</text>\n<text text-anchor=\"start\" x=\"194.5\" y=\"-7.8\" font-family=\"Helvetica,sans-Serif\" font-size=\"14.00\">died</text>\n</g>\n<!-- 8&#45;&gt;9 -->\n<g id=\"edge9\" class=\"edge\"><title>8-&gt;9</title>\n<path fill=\"none\" stroke=\"black\" d=\"M248.669,-103.726C243.604,-95.0615 238.248,-85.8962 233.153,-77.1802\"/>\n<polygon fill=\"black\" stroke=\"black\" points=\"236.031,-75.167 227.963,-68.2996 229.987,-78.6992 236.031,-75.167\"/>\n</g>\n<!-- 10 -->\n<g id=\"node11\" class=\"node\"><title>10</title>\n<path fill=\"#e99558\" stroke=\"black\" d=\"M303.5,-68C303.5,-68 271.5,-68 271.5,-68 265.5,-68 259.5,-62 259.5,-56 259.5,-56 259.5,-12 259.5,-12 259.5,-6 265.5,-0 271.5,-0 271.5,-0 303.5,-0 303.5,-0 309.5,-0 315.5,-6 315.5,-12 315.5,-12 315.5,-56 315.5,-56 315.5,-62 309.5,-68 303.5,-68\"/>\n<text text-anchor=\"start\" x=\"269\" y=\"-52.8\" font-family=\"Helvetica,sans-Serif\" font-size=\"14.00\">0.236</text>\n<text text-anchor=\"start\" x=\"279\" y=\"-37.8\" font-family=\"Helvetica,sans-Serif\" font-size=\"14.00\">22</text>\n<text text-anchor=\"start\" x=\"267.5\" y=\"-22.8\" font-family=\"Helvetica,sans-Serif\" font-size=\"14.00\">[19, 3]</text>\n<text text-anchor=\"start\" x=\"273.5\" y=\"-7.8\" font-family=\"Helvetica,sans-Serif\" font-size=\"14.00\">died</text>\n</g>\n<!-- 8&#45;&gt;10 -->\n<g id=\"edge10\" class=\"edge\"><title>8-&gt;10</title>\n<path fill=\"none\" stroke=\"black\" d=\"M278.085,-103.726C279.222,-95.4263 280.422,-86.6671 281.571,-78.2834\"/>\n<polygon fill=\"black\" stroke=\"black\" points=\"285.049,-78.6821 282.938,-68.2996 278.114,-77.732 285.049,-78.6821\"/>\n</g>\n<!-- 12 -->\n<g id=\"node13\" class=\"node\"><title>12</title>\n<path fill=\"#f2c09c\" stroke=\"black\" d=\"M375.5,-68C375.5,-68 345.5,-68 345.5,-68 339.5,-68 333.5,-62 333.5,-56 333.5,-56 333.5,-12 333.5,-12 333.5,-6 339.5,-0 345.5,-0 345.5,-0 375.5,-0 375.5,-0 381.5,-0 387.5,-6 387.5,-12 387.5,-12 387.5,-56 387.5,-56 387.5,-62 381.5,-68 375.5,-68\"/>\n<text text-anchor=\"start\" x=\"342\" y=\"-52.8\" font-family=\"Helvetica,sans-Serif\" font-size=\"14.00\">0.444</text>\n<text text-anchor=\"start\" x=\"352\" y=\"-37.8\" font-family=\"Helvetica,sans-Serif\" font-size=\"14.00\">12</text>\n<text text-anchor=\"start\" x=\"344.5\" y=\"-22.8\" font-family=\"Helvetica,sans-Serif\" font-size=\"14.00\">[8, 4]</text>\n<text text-anchor=\"start\" x=\"346.5\" y=\"-7.8\" font-family=\"Helvetica,sans-Serif\" font-size=\"14.00\">died</text>\n</g>\n<!-- 11&#45;&gt;12 -->\n<g id=\"edge12\" class=\"edge\"><title>11-&gt;12</title>\n<path fill=\"none\" stroke=\"black\" d=\"M370.542,-103.726C369.329,-95.4263 368.05,-86.6671 366.825,-78.2834\"/>\n<polygon fill=\"black\" stroke=\"black\" points=\"370.275,-77.6885 365.366,-68.2996 363.348,-78.7006 370.275,-77.6885\"/>\n</g>\n<!-- 13 -->\n<g id=\"node14\" class=\"node\"><title>13</title>\n<path fill=\"#e89151\" stroke=\"black\" d=\"M467,-68C467,-68 418,-68 418,-68 412,-68 406,-62 406,-56 406,-56 406,-12 406,-12 406,-6 412,-0 418,-0 418,-0 467,-0 467,-0 473,-0 479,-6 479,-12 479,-12 479,-56 479,-56 479,-62 473,-68 467,-68\"/>\n<text text-anchor=\"start\" x=\"424\" y=\"-52.8\" font-family=\"Helvetica,sans-Serif\" font-size=\"14.00\">0.196</text>\n<text text-anchor=\"start\" x=\"430\" y=\"-37.8\" font-family=\"Helvetica,sans-Serif\" font-size=\"14.00\">318</text>\n<text text-anchor=\"start\" x=\"414\" y=\"-22.8\" font-family=\"Helvetica,sans-Serif\" font-size=\"14.00\">[283, 35]</text>\n<text text-anchor=\"start\" x=\"428.5\" y=\"-7.8\" font-family=\"Helvetica,sans-Serif\" font-size=\"14.00\">died</text>\n</g>\n<!-- 11&#45;&gt;13 -->\n<g id=\"edge13\" class=\"edge\"><title>11-&gt;13</title>\n<path fill=\"none\" stroke=\"black\" d=\"M401.076,-103.726C406.354,-94.9703 411.939,-85.7032 417.242,-76.9051\"/>\n<polygon fill=\"black\" stroke=\"black\" points=\"420.264,-78.671 422.429,-68.2996 414.269,-75.0574 420.264,-78.671\"/>\n</g>\n<!-- 15 -->\n<g id=\"node16\" class=\"node\"><title>15</title>\n<path fill=\"#45a3e7\" stroke=\"black\" d=\"M674.5,-306C674.5,-306 620.5,-306 620.5,-306 614.5,-306 608.5,-300 608.5,-294 608.5,-294 608.5,-235 608.5,-235 608.5,-229 614.5,-223 620.5,-223 620.5,-223 674.5,-223 674.5,-223 680.5,-223 686.5,-229 686.5,-235 686.5,-235 686.5,-294 686.5,-294 686.5,-300 680.5,-306 674.5,-306\"/>\n<text text-anchor=\"start\" x=\"616.5\" y=\"-290.8\" font-family=\"Helvetica,sans-Serif\" font-size=\"14.00\">Age ≤ 2.5</text>\n<text text-anchor=\"start\" x=\"629\" y=\"-275.8\" font-family=\"Helvetica,sans-Serif\" font-size=\"14.00\">0.107</text>\n<text text-anchor=\"start\" x=\"635\" y=\"-260.8\" font-family=\"Helvetica,sans-Serif\" font-size=\"14.00\">159</text>\n<text text-anchor=\"start\" x=\"623\" y=\"-245.8\" font-family=\"Helvetica,sans-Serif\" font-size=\"14.00\">[9, 150]</text>\n<text text-anchor=\"start\" x=\"621\" y=\"-230.8\" font-family=\"Helvetica,sans-Serif\" font-size=\"14.00\">survived</text>\n</g>\n<!-- 14&#45;&gt;15 -->\n<g id=\"edge15\" class=\"edge\"><title>14-&gt;15</title>\n<path fill=\"none\" stroke=\"black\" d=\"M647.5,-341.907C647.5,-333.649 647.5,-324.864 647.5,-316.302\"/>\n<polygon fill=\"black\" stroke=\"black\" points=\"651,-316.021 647.5,-306.021 644,-316.021 651,-316.021\"/>\n</g>\n<!-- 22 -->\n<g id=\"node23\" class=\"node\"><title>22</title>\n<path fill=\"#fbede2\" stroke=\"black\" d=\"M928.5,-306C928.5,-306 866.5,-306 866.5,-306 860.5,-306 854.5,-300 854.5,-294 854.5,-294 854.5,-235 854.5,-235 854.5,-229 860.5,-223 866.5,-223 866.5,-223 928.5,-223 928.5,-223 934.5,-223 940.5,-229 940.5,-235 940.5,-235 940.5,-294 940.5,-294 940.5,-300 934.5,-306 928.5,-306\"/>\n<text text-anchor=\"start\" x=\"862.5\" y=\"-290.8\" font-family=\"Helvetica,sans-Serif\" font-size=\"14.00\">Age ≤ 38.5</text>\n<text text-anchor=\"start\" x=\"879\" y=\"-275.8\" font-family=\"Helvetica,sans-Serif\" font-size=\"14.00\">0.497</text>\n<text text-anchor=\"start\" x=\"885\" y=\"-260.8\" font-family=\"Helvetica,sans-Serif\" font-size=\"14.00\">102</text>\n<text text-anchor=\"start\" x=\"873\" y=\"-245.8\" font-family=\"Helvetica,sans-Serif\" font-size=\"14.00\">[55, 47]</text>\n<text text-anchor=\"start\" x=\"883.5\" y=\"-230.8\" font-family=\"Helvetica,sans-Serif\" font-size=\"14.00\">died</text>\n</g>\n<!-- 14&#45;&gt;22 -->\n<g id=\"edge22\" class=\"edge\"><title>14-&gt;22</title>\n<path fill=\"none\" stroke=\"black\" d=\"M691.62,-361.852C734.503,-341.783 799.642,-311.297 845.132,-290.008\"/>\n<polygon fill=\"black\" stroke=\"black\" points=\"846.666,-293.155 854.24,-285.746 843.699,-286.815 846.666,-293.155\"/>\n</g>\n<!-- 16 -->\n<g id=\"node17\" class=\"node\"><title>16</title>\n<path fill=\"#ffffff\" stroke=\"black\" d=\"M627.5,-187C627.5,-187 563.5,-187 563.5,-187 557.5,-187 551.5,-181 551.5,-175 551.5,-175 551.5,-116 551.5,-116 551.5,-110 557.5,-104 563.5,-104 563.5,-104 627.5,-104 627.5,-104 633.5,-104 639.5,-110 639.5,-116 639.5,-116 639.5,-175 639.5,-175 639.5,-181 633.5,-187 627.5,-187\"/>\n<text text-anchor=\"start\" x=\"559.5\" y=\"-171.8\" font-family=\"Helvetica,sans-Serif\" font-size=\"14.00\">Class ≤ 1.5</text>\n<text text-anchor=\"start\" x=\"585\" y=\"-156.8\" font-family=\"Helvetica,sans-Serif\" font-size=\"14.00\">0.5</text>\n<text text-anchor=\"start\" x=\"591\" y=\"-141.8\" font-family=\"Helvetica,sans-Serif\" font-size=\"14.00\">2</text>\n<text text-anchor=\"start\" x=\"579.5\" y=\"-126.8\" font-family=\"Helvetica,sans-Serif\" font-size=\"14.00\">[1, 1]</text>\n<text text-anchor=\"start\" x=\"581.5\" y=\"-111.8\" font-family=\"Helvetica,sans-Serif\" font-size=\"14.00\">died</text>\n</g>\n<!-- 15&#45;&gt;16 -->\n<g id=\"edge16\" class=\"edge\"><title>15-&gt;16</title>\n<path fill=\"none\" stroke=\"black\" d=\"M629.459,-222.907C625.627,-214.286 621.54,-205.09 617.578,-196.175\"/>\n<polygon fill=\"black\" stroke=\"black\" points=\"620.769,-194.737 613.509,-187.021 614.372,-197.58 620.769,-194.737\"/>\n</g>\n<!-- 19 -->\n<g id=\"node20\" class=\"node\"><title>19</title>\n<path fill=\"#44a2e6\" stroke=\"black\" d=\"M731.5,-187C731.5,-187 669.5,-187 669.5,-187 663.5,-187 657.5,-181 657.5,-175 657.5,-175 657.5,-116 657.5,-116 657.5,-110 663.5,-104 669.5,-104 669.5,-104 731.5,-104 731.5,-104 737.5,-104 743.5,-110 743.5,-116 743.5,-116 743.5,-175 743.5,-175 743.5,-181 737.5,-187 731.5,-187\"/>\n<text text-anchor=\"start\" x=\"665.5\" y=\"-171.8\" font-family=\"Helvetica,sans-Serif\" font-size=\"14.00\">Age ≤ 23.5</text>\n<text text-anchor=\"start\" x=\"682\" y=\"-156.8\" font-family=\"Helvetica,sans-Serif\" font-size=\"14.00\">0.097</text>\n<text text-anchor=\"start\" x=\"688\" y=\"-141.8\" font-family=\"Helvetica,sans-Serif\" font-size=\"14.00\">157</text>\n<text text-anchor=\"start\" x=\"676\" y=\"-126.8\" font-family=\"Helvetica,sans-Serif\" font-size=\"14.00\">[8, 149]</text>\n<text text-anchor=\"start\" x=\"674\" y=\"-111.8\" font-family=\"Helvetica,sans-Serif\" font-size=\"14.00\">survived</text>\n</g>\n<!-- 15&#45;&gt;19 -->\n<g id=\"edge19\" class=\"edge\"><title>15-&gt;19</title>\n<path fill=\"none\" stroke=\"black\" d=\"M665.888,-222.907C669.793,-214.286 673.959,-205.09 677.998,-196.175\"/>\n<polygon fill=\"black\" stroke=\"black\" points=\"681.206,-197.574 682.144,-187.021 674.83,-194.686 681.206,-197.574\"/>\n</g>\n<!-- 17 -->\n<g id=\"node18\" class=\"node\"><title>17</title>\n<path fill=\"#e58139\" stroke=\"black\" d=\"M539.5,-68C539.5,-68 509.5,-68 509.5,-68 503.5,-68 497.5,-62 497.5,-56 497.5,-56 497.5,-12 497.5,-12 497.5,-6 503.5,-0 509.5,-0 509.5,-0 539.5,-0 539.5,-0 545.5,-0 551.5,-6 551.5,-12 551.5,-12 551.5,-56 551.5,-56 551.5,-62 545.5,-68 539.5,-68\"/>\n<text text-anchor=\"start\" x=\"514\" y=\"-52.8\" font-family=\"Helvetica,sans-Serif\" font-size=\"14.00\">0.0</text>\n<text text-anchor=\"start\" x=\"520\" y=\"-37.8\" font-family=\"Helvetica,sans-Serif\" font-size=\"14.00\">1</text>\n<text text-anchor=\"start\" x=\"508.5\" y=\"-22.8\" font-family=\"Helvetica,sans-Serif\" font-size=\"14.00\">[1, 0]</text>\n<text text-anchor=\"start\" x=\"510.5\" y=\"-7.8\" font-family=\"Helvetica,sans-Serif\" font-size=\"14.00\">died</text>\n</g>\n<!-- 16&#45;&gt;17 -->\n<g id=\"edge17\" class=\"edge\"><title>16-&gt;17</title>\n<path fill=\"none\" stroke=\"black\" d=\"M569.062,-103.726C563.385,-94.9703 557.376,-85.7032 551.671,-76.9051\"/>\n<polygon fill=\"black\" stroke=\"black\" points=\"554.469,-74.786 546.092,-68.2996 548.595,-78.5943 554.469,-74.786\"/>\n</g>\n<!-- 18 -->\n<g id=\"node19\" class=\"node\"><title>18</title>\n<path fill=\"#399de5\" stroke=\"black\" d=\"M627,-68C627,-68 582,-68 582,-68 576,-68 570,-62 570,-56 570,-56 570,-12 570,-12 570,-6 576,-0 582,-0 582,-0 627,-0 627,-0 633,-0 639,-6 639,-12 639,-12 639,-56 639,-56 639,-62 633,-68 627,-68\"/>\n<text text-anchor=\"start\" x=\"594\" y=\"-52.8\" font-family=\"Helvetica,sans-Serif\" font-size=\"14.00\">0.0</text>\n<text text-anchor=\"start\" x=\"600\" y=\"-37.8\" font-family=\"Helvetica,sans-Serif\" font-size=\"14.00\">1</text>\n<text text-anchor=\"start\" x=\"588.5\" y=\"-22.8\" font-family=\"Helvetica,sans-Serif\" font-size=\"14.00\">[0, 1]</text>\n<text text-anchor=\"start\" x=\"578\" y=\"-7.8\" font-family=\"Helvetica,sans-Serif\" font-size=\"14.00\">survived</text>\n</g>\n<!-- 16&#45;&gt;18 -->\n<g id=\"edge18\" class=\"edge\"><title>16-&gt;18</title>\n<path fill=\"none\" stroke=\"black\" d=\"M598.851,-103.726C599.533,-95.4263 600.253,-86.6671 600.942,-78.2834\"/>\n<polygon fill=\"black\" stroke=\"black\" points=\"604.432,-78.5527 601.763,-68.2996 597.456,-77.9793 604.432,-78.5527\"/>\n</g>\n<!-- 20 -->\n<g id=\"node21\" class=\"node\"><title>20</title>\n<path fill=\"#399de5\" stroke=\"black\" d=\"M714,-68C714,-68 669,-68 669,-68 663,-68 657,-62 657,-56 657,-56 657,-12 657,-12 657,-6 663,-0 669,-0 669,-0 714,-0 714,-0 720,-0 726,-6 726,-12 726,-12 726,-56 726,-56 726,-62 720,-68 714,-68\"/>\n<text text-anchor=\"start\" x=\"681\" y=\"-52.8\" font-family=\"Helvetica,sans-Serif\" font-size=\"14.00\">0.0</text>\n<text text-anchor=\"start\" x=\"683\" y=\"-37.8\" font-family=\"Helvetica,sans-Serif\" font-size=\"14.00\">40</text>\n<text text-anchor=\"start\" x=\"671.5\" y=\"-22.8\" font-family=\"Helvetica,sans-Serif\" font-size=\"14.00\">[0, 40]</text>\n<text text-anchor=\"start\" x=\"665\" y=\"-7.8\" font-family=\"Helvetica,sans-Serif\" font-size=\"14.00\">survived</text>\n</g>\n<!-- 19&#45;&gt;20 -->\n<g id=\"edge20\" class=\"edge\"><title>19-&gt;20</title>\n<path fill=\"none\" stroke=\"black\" d=\"M697.149,-103.726C696.467,-95.4263 695.747,-86.6671 695.058,-78.2834\"/>\n<polygon fill=\"black\" stroke=\"black\" points=\"698.544,-77.9793 694.237,-68.2996 691.568,-78.5527 698.544,-77.9793\"/>\n</g>\n<!-- 21 -->\n<g id=\"node22\" class=\"node\"><title>21</title>\n<path fill=\"#48a4e7\" stroke=\"black\" d=\"M801,-68C801,-68 756,-68 756,-68 750,-68 744,-62 744,-56 744,-56 744,-12 744,-12 744,-6 750,-0 756,-0 756,-0 801,-0 801,-0 807,-0 813,-6 813,-12 813,-12 813,-56 813,-56 813,-62 807,-68 801,-68\"/>\n<text text-anchor=\"start\" x=\"760\" y=\"-52.8\" font-family=\"Helvetica,sans-Serif\" font-size=\"14.00\">0.127</text>\n<text text-anchor=\"start\" x=\"766\" y=\"-37.8\" font-family=\"Helvetica,sans-Serif\" font-size=\"14.00\">117</text>\n<text text-anchor=\"start\" x=\"754\" y=\"-22.8\" font-family=\"Helvetica,sans-Serif\" font-size=\"14.00\">[8, 109]</text>\n<text text-anchor=\"start\" x=\"752\" y=\"-7.8\" font-family=\"Helvetica,sans-Serif\" font-size=\"14.00\">survived</text>\n</g>\n<!-- 19&#45;&gt;21 -->\n<g id=\"edge21\" class=\"edge\"><title>19-&gt;21</title>\n<path fill=\"none\" stroke=\"black\" d=\"M729.544,-103.726C735.846,-94.879 742.52,-85.51 748.846,-76.6303\"/>\n<polygon fill=\"black\" stroke=\"black\" points=\"751.829,-78.4751 754.78,-68.2996 746.127,-74.4138 751.829,-78.4751\"/>\n</g>\n<!-- 23 -->\n<g id=\"node24\" class=\"node\"><title>23</title>\n<path fill=\"#f6fbfe\" stroke=\"black\" d=\"M924.5,-187C924.5,-187 870.5,-187 870.5,-187 864.5,-187 858.5,-181 858.5,-175 858.5,-175 858.5,-116 858.5,-116 858.5,-110 864.5,-104 870.5,-104 870.5,-104 924.5,-104 924.5,-104 930.5,-104 936.5,-110 936.5,-116 936.5,-116 936.5,-175 936.5,-175 936.5,-181 930.5,-187 924.5,-187\"/>\n<text text-anchor=\"start\" x=\"866.5\" y=\"-171.8\" font-family=\"Helvetica,sans-Serif\" font-size=\"14.00\">Age ≤ 1.5</text>\n<text text-anchor=\"start\" x=\"887\" y=\"-156.8\" font-family=\"Helvetica,sans-Serif\" font-size=\"14.00\">0.5</text>\n<text text-anchor=\"start\" x=\"889\" y=\"-141.8\" font-family=\"Helvetica,sans-Serif\" font-size=\"14.00\">90</text>\n<text text-anchor=\"start\" x=\"873\" y=\"-126.8\" font-family=\"Helvetica,sans-Serif\" font-size=\"14.00\">[44, 46]</text>\n<text text-anchor=\"start\" x=\"871\" y=\"-111.8\" font-family=\"Helvetica,sans-Serif\" font-size=\"14.00\">survived</text>\n</g>\n<!-- 22&#45;&gt;23 -->\n<g id=\"edge23\" class=\"edge\"><title>22-&gt;23</title>\n<path fill=\"none\" stroke=\"black\" d=\"M897.5,-222.907C897.5,-214.649 897.5,-205.864 897.5,-197.302\"/>\n<polygon fill=\"black\" stroke=\"black\" points=\"901,-197.021 897.5,-187.021 894,-197.021 901,-197.021\"/>\n</g>\n<!-- 26 -->\n<g id=\"node27\" class=\"node\"><title>26</title>\n<path fill=\"#e78c4b\" stroke=\"black\" d=\"M1060.5,-187C1060.5,-187 998.5,-187 998.5,-187 992.5,-187 986.5,-181 986.5,-175 986.5,-175 986.5,-116 986.5,-116 986.5,-110 992.5,-104 998.5,-104 998.5,-104 1060.5,-104 1060.5,-104 1066.5,-104 1072.5,-110 1072.5,-116 1072.5,-116 1072.5,-175 1072.5,-175 1072.5,-181 1066.5,-187 1060.5,-187\"/>\n<text text-anchor=\"start\" x=\"994.5\" y=\"-171.8\" font-family=\"Helvetica,sans-Serif\" font-size=\"14.00\">Age ≤ 55.5</text>\n<text text-anchor=\"start\" x=\"1011\" y=\"-156.8\" font-family=\"Helvetica,sans-Serif\" font-size=\"14.00\">0.153</text>\n<text text-anchor=\"start\" x=\"1021\" y=\"-141.8\" font-family=\"Helvetica,sans-Serif\" font-size=\"14.00\">12</text>\n<text text-anchor=\"start\" x=\"1009.5\" y=\"-126.8\" font-family=\"Helvetica,sans-Serif\" font-size=\"14.00\">[11, 1]</text>\n<text text-anchor=\"start\" x=\"1015.5\" y=\"-111.8\" font-family=\"Helvetica,sans-Serif\" font-size=\"14.00\">died</text>\n</g>\n<!-- 22&#45;&gt;26 -->\n<g id=\"edge26\" class=\"edge\"><title>22-&gt;26</title>\n<path fill=\"none\" stroke=\"black\" d=\"M940.722,-225.19C952.801,-214.483 966.041,-202.748 978.524,-191.683\"/>\n<polygon fill=\"black\" stroke=\"black\" points=\"981.019,-194.149 986.181,-184.896 976.376,-188.91 981.019,-194.149\"/>\n</g>\n<!-- 24 -->\n<g id=\"node25\" class=\"node\"><title>24</title>\n<path fill=\"#399de5\" stroke=\"black\" d=\"M888,-68C888,-68 843,-68 843,-68 837,-68 831,-62 831,-56 831,-56 831,-12 831,-12 831,-6 837,-0 843,-0 843,-0 888,-0 888,-0 894,-0 900,-6 900,-12 900,-12 900,-56 900,-56 900,-62 894,-68 888,-68\"/>\n<text text-anchor=\"start\" x=\"855\" y=\"-52.8\" font-family=\"Helvetica,sans-Serif\" font-size=\"14.00\">0.0</text>\n<text text-anchor=\"start\" x=\"861\" y=\"-37.8\" font-family=\"Helvetica,sans-Serif\" font-size=\"14.00\">4</text>\n<text text-anchor=\"start\" x=\"849.5\" y=\"-22.8\" font-family=\"Helvetica,sans-Serif\" font-size=\"14.00\">[0, 4]</text>\n<text text-anchor=\"start\" x=\"839\" y=\"-7.8\" font-family=\"Helvetica,sans-Serif\" font-size=\"14.00\">survived</text>\n</g>\n<!-- 23&#45;&gt;24 -->\n<g id=\"edge24\" class=\"edge\"><title>23-&gt;24</title>\n<path fill=\"none\" stroke=\"black\" d=\"M885.584,-103.726C883.132,-95.3351 880.543,-86.4745 878.068,-78.0072\"/>\n<polygon fill=\"black\" stroke=\"black\" points=\"881.396,-76.9163 875.231,-68.2996 874.677,-78.8799 881.396,-76.9163\"/>\n</g>\n<!-- 25 -->\n<g id=\"node26\" class=\"node\"><title>25</title>\n<path fill=\"#fef9f6\" stroke=\"black\" d=\"M971,-68C971,-68 930,-68 930,-68 924,-68 918,-62 918,-56 918,-56 918,-12 918,-12 918,-6 924,-0 930,-0 930,-0 971,-0 971,-0 977,-0 983,-6 983,-12 983,-12 983,-56 983,-56 983,-62 977,-68 971,-68\"/>\n<text text-anchor=\"start\" x=\"940\" y=\"-52.8\" font-family=\"Helvetica,sans-Serif\" font-size=\"14.00\">0.5</text>\n<text text-anchor=\"start\" x=\"942\" y=\"-37.8\" font-family=\"Helvetica,sans-Serif\" font-size=\"14.00\">86</text>\n<text text-anchor=\"start\" x=\"926\" y=\"-22.8\" font-family=\"Helvetica,sans-Serif\" font-size=\"14.00\">[44, 42]</text>\n<text text-anchor=\"start\" x=\"936.5\" y=\"-7.8\" font-family=\"Helvetica,sans-Serif\" font-size=\"14.00\">died</text>\n</g>\n<!-- 23&#45;&gt;25 -->\n<g id=\"edge25\" class=\"edge\"><title>23-&gt;25</title>\n<path fill=\"none\" stroke=\"black\" d=\"M917.235,-103.726C921.385,-95.1527 925.772,-86.0891 929.951,-77.4555\"/>\n<polygon fill=\"black\" stroke=\"black\" points=\"933.176,-78.8255 934.382,-68.2996 926.875,-75.7758 933.176,-78.8255\"/>\n</g>\n<!-- 27 -->\n<g id=\"node28\" class=\"node\"><title>27</title>\n<path fill=\"#e58139\" stroke=\"black\" d=\"M1045.5,-68C1045.5,-68 1013.5,-68 1013.5,-68 1007.5,-68 1001.5,-62 1001.5,-56 1001.5,-56 1001.5,-12 1001.5,-12 1001.5,-6 1007.5,-0 1013.5,-0 1013.5,-0 1045.5,-0 1045.5,-0 1051.5,-0 1057.5,-6 1057.5,-12 1057.5,-12 1057.5,-56 1057.5,-56 1057.5,-62 1051.5,-68 1045.5,-68\"/>\n<text text-anchor=\"start\" x=\"1019\" y=\"-52.8\" font-family=\"Helvetica,sans-Serif\" font-size=\"14.00\">0.0</text>\n<text text-anchor=\"start\" x=\"1021\" y=\"-37.8\" font-family=\"Helvetica,sans-Serif\" font-size=\"14.00\">11</text>\n<text text-anchor=\"start\" x=\"1009.5\" y=\"-22.8\" font-family=\"Helvetica,sans-Serif\" font-size=\"14.00\">[11, 0]</text>\n<text text-anchor=\"start\" x=\"1015.5\" y=\"-7.8\" font-family=\"Helvetica,sans-Serif\" font-size=\"14.00\">died</text>\n</g>\n<!-- 26&#45;&gt;27 -->\n<g id=\"edge27\" class=\"edge\"><title>26-&gt;27</title>\n<path fill=\"none\" stroke=\"black\" d=\"M1029.5,-103.726C1029.5,-95.5175 1029.5,-86.8595 1029.5,-78.56\"/>\n<polygon fill=\"black\" stroke=\"black\" points=\"1033,-78.2996 1029.5,-68.2996 1026,-78.2996 1033,-78.2996\"/>\n</g>\n<!-- 28 -->\n<g id=\"node29\" class=\"node\"><title>28</title>\n<path fill=\"#399de5\" stroke=\"black\" d=\"M1133,-68C1133,-68 1088,-68 1088,-68 1082,-68 1076,-62 1076,-56 1076,-56 1076,-12 1076,-12 1076,-6 1082,-0 1088,-0 1088,-0 1133,-0 1133,-0 1139,-0 1145,-6 1145,-12 1145,-12 1145,-56 1145,-56 1145,-62 1139,-68 1133,-68\"/>\n<text text-anchor=\"start\" x=\"1100\" y=\"-52.8\" font-family=\"Helvetica,sans-Serif\" font-size=\"14.00\">0.0</text>\n<text text-anchor=\"start\" x=\"1106\" y=\"-37.8\" font-family=\"Helvetica,sans-Serif\" font-size=\"14.00\">1</text>\n<text text-anchor=\"start\" x=\"1094.5\" y=\"-22.8\" font-family=\"Helvetica,sans-Serif\" font-size=\"14.00\">[0, 1]</text>\n<text text-anchor=\"start\" x=\"1084\" y=\"-7.8\" font-family=\"Helvetica,sans-Serif\" font-size=\"14.00\">survived</text>\n</g>\n<!-- 26&#45;&gt;28 -->\n<g id=\"edge28\" class=\"edge\"><title>26-&gt;28</title>\n<path fill=\"none\" stroke=\"black\" d=\"M1059.66,-103.726C1066.27,-94.7878 1073.28,-85.3168 1079.91,-76.3558\"/>\n<polygon fill=\"black\" stroke=\"black\" points=\"1082.73,-78.4206 1085.87,-68.2996 1077.11,-74.2576 1082.73,-78.4206\"/>\n</g>\n</g>\n</svg>"
     },
     "execution_count": 10,
     "metadata": {},
     "output_type": "execute_result"
    }
   ],
   "source": [
    "from sklearn import tree\n",
    "from graphviz import Source\n",
    "import numpy as np\n",
    "from IPython.display import SVG\n",
    "\n",
    "X = titanic.drop('Survived', axis=1)\n",
    "y = titanic['Survived']\n",
    "\n",
    "survived = pd.Series(np.where(y == 0, 'died', 'survived'))\n",
    "\n",
    "clf = tree.DecisionTreeClassifier(max_depth=4).fit(X, y)\n",
    "dot_data = tree.export_graphviz(clf, out_file=None,\n",
    "                                feature_names=X.columns,\n",
    "                                class_names=survived,\n",
    "                                filled=True, rounded=True,\n",
    "                                label='root',\n",
    "                                special_characters=True)\n",
    "graph = Source(dot_data)\n",
    "SVG(graph.pipe(format='svg'))"
   ],
   "metadata": {
    "collapsed": false,
    "pycharm": {
     "name": "#%%\n"
    }
   }
  },
  {
   "cell_type": "markdown",
   "source": [
    "Classification scores and reports for different depths:\n"
   ],
   "metadata": {
    "collapsed": false
   }
  },
  {
   "cell_type": "code",
   "execution_count": 19,
   "outputs": [
    {
     "name": "stdout",
     "output_type": "stream",
     "text": [
      "Max depth = 1: 0.7801120448179272\n",
      "              precision    recall  f1-score   support\n",
      "\n",
      "        died       0.79      0.85      0.82       424\n",
      "    survived       0.75      0.68      0.72       290\n",
      "\n",
      "    accuracy                           0.78       714\n",
      "   macro avg       0.77      0.76      0.77       714\n",
      "weighted avg       0.78      0.78      0.78       714\n",
      " \n",
      "\n",
      "Max depth = 2: 0.8025210084033614\n",
      "              precision    recall  f1-score   support\n",
      "\n",
      "        died       0.77      0.96      0.85       424\n",
      "    survived       0.91      0.57      0.70       290\n",
      "\n",
      "    accuracy                           0.80       714\n",
      "   macro avg       0.84      0.77      0.78       714\n",
      "weighted avg       0.82      0.80      0.79       714\n",
      " \n",
      "\n",
      "Max depth = 3: 0.8081232492997199\n",
      "              precision    recall  f1-score   support\n",
      "\n",
      "        died       0.81      0.88      0.84       424\n",
      "    survived       0.80      0.71      0.75       290\n",
      "\n",
      "    accuracy                           0.81       714\n",
      "   macro avg       0.81      0.79      0.80       714\n",
      "weighted avg       0.81      0.81      0.81       714\n",
      " \n",
      "\n",
      "Max depth = 4: 0.8151260504201681\n",
      "              precision    recall  f1-score   support\n",
      "\n",
      "        died       0.77      0.98      0.86       424\n",
      "    survived       0.95      0.57      0.72       290\n",
      "\n",
      "    accuracy                           0.82       714\n",
      "   macro avg       0.86      0.78      0.79       714\n",
      "weighted avg       0.84      0.82      0.80       714\n",
      " \n",
      "\n",
      "Max depth = 5: 0.8263305322128851\n",
      "              precision    recall  f1-score   support\n",
      "\n",
      "        died       0.79      0.97      0.87       424\n",
      "    survived       0.94      0.61      0.74       290\n",
      "\n",
      "    accuracy                           0.83       714\n",
      "   macro avg       0.86      0.79      0.81       714\n",
      "weighted avg       0.85      0.83      0.82       714\n",
      " \n",
      "\n",
      "Max depth = 6: 0.8305322128851541\n",
      "              precision    recall  f1-score   support\n",
      "\n",
      "        died       0.83      0.90      0.86       424\n",
      "    survived       0.84      0.72      0.78       290\n",
      "\n",
      "    accuracy                           0.83       714\n",
      "   macro avg       0.83      0.81      0.82       714\n",
      "weighted avg       0.83      0.83      0.83       714\n",
      " \n",
      "\n",
      "Max depth = 7: 0.8445378151260504\n",
      "              precision    recall  f1-score   support\n",
      "\n",
      "        died       0.82      0.95      0.88       424\n",
      "    survived       0.91      0.69      0.78       290\n",
      "\n",
      "    accuracy                           0.84       714\n",
      "   macro avg       0.86      0.82      0.83       714\n",
      "weighted avg       0.85      0.84      0.84       714\n",
      " \n",
      "\n",
      "Max depth = 8: 0.8529411764705882\n",
      "              precision    recall  f1-score   support\n",
      "\n",
      "        died       0.86      0.91      0.88       424\n",
      "    survived       0.85      0.78      0.81       290\n",
      "\n",
      "    accuracy                           0.85       714\n",
      "   macro avg       0.85      0.84      0.85       714\n",
      "weighted avg       0.85      0.85      0.85       714\n",
      " \n",
      "\n",
      "Max depth = 9: 0.8697478991596639\n",
      "              precision    recall  f1-score   support\n",
      "\n",
      "        died       0.83      0.98      0.90       424\n",
      "    survived       0.95      0.71      0.82       290\n",
      "\n",
      "    accuracy                           0.87       714\n",
      "   macro avg       0.89      0.85      0.86       714\n",
      "weighted avg       0.88      0.87      0.87       714\n",
      " \n",
      "\n"
     ]
    }
   ],
   "source": [
    "from sklearn.metrics import classification_report\n",
    "\n",
    "for i in range(1, 10):\n",
    "    clf = tree.DecisionTreeClassifier(max_depth=i).fit(X, y)\n",
    "    print(\"Max depth = \" + str(i) + \":\", clf.score(X, y))\n",
    "    print(classification_report(y, clf.predict(X), target_names=['died', 'survived']), '\\n')"
   ],
   "metadata": {
    "collapsed": false,
    "pycharm": {
     "name": "#%%\n"
    }
   }
  }
 ],
 "metadata": {
  "kernelspec": {
   "name": "pycharm-e491e3",
   "language": "python",
   "display_name": "PyCharm (BigData)"
  },
  "language_info": {
   "codemirror_mode": {
    "name": "ipython",
    "version": 2
   },
   "file_extension": ".py",
   "mimetype": "text/x-python",
   "name": "python",
   "nbconvert_exporter": "python",
   "pygments_lexer": "ipython2",
   "version": "2.7.6"
  }
 },
 "nbformat": 4,
 "nbformat_minor": 0
}